{
 "cells": [
  {
   "cell_type": "code",
   "execution_count": null,
   "id": "1cbab2a6-ea83-418a-b180-6f404376488a",
   "metadata": {},
   "outputs": [],
   "source": [
    "!pip install selenium"
   ]
  },
  {
   "cell_type": "code",
   "execution_count": null,
   "id": "7d6e02b9-4c9c-43e0-a66f-144c012956fd",
   "metadata": {},
   "outputs": [],
   "source": [
    "\n",
    "# Import required modules\n",
    "\n",
    "\n",
    "\n",
    "from selenium import webdriver\n",
    "from selenium.webdriver.common.by import By\n",
    "import time\n",
    "\n",
    "# Set up WebDriver options\n",
    "options = webdriver.ChromeOptions()\n",
    "options.add_experimental_option(\"detach\", True)\n",
    "\n",
    "# Define the URL\n",
    "url=\"https://www.google.com/maps/place/Oakridge+International+School,+Bachupally/@17.5629181,78.3824724,17z/data=!4m8!3m7!1s0x3bcb8dc64ffffff7:0x8156e1ed344f53bb!8m2!3d17.5629181!4d78.3850473!9m1!1b1!16s%2Fg%2F11b637mfy7?entry=ttu\"\n",
    "# Initialize WebDriver\n",
    "driver = webdriver.Chrome(options=options)\n",
    "driver.maximize_window()\n",
    "driver.get(url)\n",
    "time.sleep(2)\n",
    "\n",
    "# Scroll to load all reviews\n",
    "scrollable_div = driver.find_element(By.XPATH, value='//*[@id=\"QA0Szd\"]/div/div/div[1]/div[2]/div/div[1]/div/div/div[2]')\n",
    "total_number_of_reviews = driver.find_element(By.XPATH, value='//*[@id=\"QA0Szd\"]/div/div/div[1]/div[2]/div/div[1]/div/div/div[2]/div[2]/div/div[2]/div[3]').text.split(\" \")[0]\n",
    "total_number_of_reviews = int(total_number_of_reviews.replace(',', '')) if ',' in total_number_of_reviews else int(total_number_of_reviews)\n",
    "\n",
    "for i in range(0, (round(total_number_of_reviews / 10 - 1))):\n",
    "    driver.execute_script('arguments[0].scrollTop = arguments[0].scrollHeight', scrollable_div)\n",
    "    time.sleep(1.5)\n",
    "\n",
    "# Wait for the page to load (adjust the sleep time as necessary)\n",
    "time.sleep(5)\n",
    "\n",
    "# Find and click all \"More\" buttons\n",
    "more_buttons = driver.find_elements(By.XPATH, \"//button[contains(@class, 'w8nwRe kyuRq') and contains(@aria-label, 'See more')]\")\n",
    "\n",
    "for button in more_buttons:\n",
    "    try:\n",
    "        # Click the button\n",
    "        driver.execute_script(\"arguments[0].click();\", button)\n",
    "        # Wait a bit for the action to complete\n",
    "        time.sleep(1)\n",
    "    except Exception as e:\n",
    "        # Pass to continue even if there's an exception\n",
    "        pass\n",
    "\n",
    "# Add additional wait to ensure text is expanded\n",
    "time.sleep(5)\n",
    "\n",
    "# Get the page source\n",
    "html_content = driver.page_source\n",
    "\n",
    "# Close the driver\n",
    "driver.quit()\n",
    "\n"
   ]
  },
  {
   "cell_type": "code",
   "execution_count": null,
   "id": "5f19fcc8-44e1-4909-880e-7c453d7f9b58",
   "metadata": {},
   "outputs": [],
   "source": [
    "with open('school_review.html', 'w', encoding='utf-8') as f:\n",
    "    f.write(html_content)"
   ]
  },
  {
   "cell_type": "code",
   "execution_count": null,
   "id": "324a6c6b",
   "metadata": {},
   "outputs": [],
   "source": [
    "with open('school_review.html','r',encoding='utf-8') as f:\n",
    "    html = f.read()"
   ]
  },
  {
   "cell_type": "code",
   "execution_count": null,
   "id": "437b1928",
   "metadata": {},
   "outputs": [],
   "source": [
    "from bs4 import BeautifulSoup\n",
    "import numpy as np\n",
    "import pandas as pd"
   ]
  },
  {
   "cell_type": "code",
   "execution_count": null,
   "id": "be16f243",
   "metadata": {},
   "outputs": [],
   "source": [
    "soup = BeautifulSoup(html,'lxml')"
   ]
  },
  {
   "cell_type": "code",
   "execution_count": null,
   "id": "34ca0def",
   "metadata": {},
   "outputs": [],
   "source": [
    "print(soup.prettify())"
   ]
  },
  {
   "cell_type": "code",
   "execution_count": null,
   "id": "26bf5d2b",
   "metadata": {},
   "outputs": [],
   "source": [
    "containers = soup.find_all('div',class_='jftiEf fontBodyMedium')"
   ]
  },
  {
   "cell_type": "code",
   "execution_count": null,
   "id": "8c8b8c6f",
   "metadata": {},
   "outputs": [],
   "source": [
    "len(containers)"
   ]
  },
  {
   "cell_type": "code",
   "execution_count": null,
   "id": "df7f4d13",
   "metadata": {},
   "outputs": [],
   "source": [
    "print(len(containers))"
   ]
  },
  {
   "cell_type": "code",
   "execution_count": null,
   "id": "bf68217d",
   "metadata": {},
   "outputs": [],
   "source": [
    "\n",
    "user_review_no=[]\n",
    "rating=[]\n",
    "time_ago=[]\n",
    "comment_likes=[]\n",
    "user_text=[]\n",
    "\n",
    "for i in containers:\n",
    " \n",
    "    try:\n",
    "        user_review_no.append(i.find('div',class_='RfnDt').text.split('·')[1])\n",
    "    except:\n",
    "        user_review_no.append(np.nan)\n",
    "        \n",
    "    try:\n",
    "        rating.append(i.find('span',class_='kvMYJc')[\"aria-label\"])\n",
    "    except:\n",
    "        rating.append(np.nan)\n",
    "        \n",
    "    try:\n",
    "        time_ago.append(i.find('span',class_='rsqaWe').text)\n",
    "    except:\n",
    "        time_ago.append(np.nan)\n",
    "        \n",
    "    try:\n",
    "        comment_likes.append(i.find('span',class_='pkWtMe').text)\n",
    "    except:\n",
    "        comment_likes.append(np.nan)\n",
    "        \n",
    "    try:\n",
    "        user_text.append(i.find('span',class_='wiI7pd').text)\n",
    "    except:\n",
    "        user_text.append(np.nan)"
   ]
  },
  {
   "cell_type": "code",
   "execution_count": null,
   "id": "875d79a1",
   "metadata": {},
   "outputs": [],
   "source": [
    "#containers[0].find('div',class_='RfnDt').text.split('·')[1]"
   ]
  },
  {
   "cell_type": "code",
   "execution_count": null,
   "id": "120b5bce",
   "metadata": {},
   "outputs": [],
   "source": [
    "#rsqaWe.find('span',class_='kvMYJc')[\"aria-label\"]"
   ]
  },
  {
   "cell_type": "code",
   "execution_count": null,
   "id": "cc700a5c",
   "metadata": {},
   "outputs": [],
   "source": [
    "#containers[0].find('span',class_='kvMYJc')[\"aria-label\"]"
   ]
  },
  {
   "cell_type": "code",
   "execution_count": null,
   "id": "a90d7cf8",
   "metadata": {},
   "outputs": [],
   "source": [
    "#containers[0].find('span',class_='rsqaWe').text"
   ]
  },
  {
   "cell_type": "code",
   "execution_count": null,
   "id": "3baf1a07",
   "metadata": {},
   "outputs": [],
   "source": [
    "#containers[0].find('span',class_='wiI7pd').text"
   ]
  },
  {
   "cell_type": "code",
   "execution_count": null,
   "id": "ced3fa4b",
   "metadata": {},
   "outputs": [],
   "source": [
    "#containers.find('div',class_='RfnDt').text.split('·')[1]"
   ]
  },
  {
   "cell_type": "code",
   "execution_count": null,
   "id": "b4cd9616",
   "metadata": {},
   "outputs": [],
   "source": [
    "df = pd.DataFrame({\n",
    "'user_review_no' :user_review_no,\n",
    "'rating' :rating,\n",
    "'time_ago' :time_ago,\n",
    "'comment_likes':comment_likes,\n",
    "'user_text':user_text})\n"
   ]
  },
  {
   "cell_type": "code",
   "execution_count": null,
   "id": "7eb04ff0",
   "metadata": {},
   "outputs": [],
   "source": [
    "df.head()"
   ]
  },
  {
   "cell_type": "code",
   "execution_count": null,
   "id": "7c5956f8",
   "metadata": {},
   "outputs": [],
   "source": [
    "from IPython.display import HTML\n",
    "import base64  \n",
    "import pandas as pd  \n",
    "\n",
    "def create_download_link( df, title = \"Download CSV file\", filename = \"data.csv\"):  \n",
    "    csv = df.to_csv(index =False)\n",
    "    b64 = base64.b64encode(csv.encode())\n",
    "    payload = b64.decode()\n",
    "    html = '<a download=\"{filename}\" href=\"data:text/csv;base64,{payload}\" target=\"_blank\">{title}</a>'\n",
    "    html = html.format(payload=payload,title=title,filename=filename)\n",
    "    return HTML(html)\n",
    "\n",
    "create_download_link(df)"
   ]
  },
  {
   "cell_type": "code",
   "execution_count": null,
   "id": "41a593cf",
   "metadata": {},
   "outputs": [],
   "source": []
  }
 ],
 "metadata": {
  "kernelspec": {
   "display_name": "Python 3 (ipykernel)",
   "language": "python",
   "name": "python3"
  },
  "language_info": {
   "codemirror_mode": {
    "name": "ipython",
    "version": 3
   },
   "file_extension": ".py",
   "mimetype": "text/x-python",
   "name": "python",
   "nbconvert_exporter": "python",
   "pygments_lexer": "ipython3",
   "version": "3.11.8"
  }
 },
 "nbformat": 4,
 "nbformat_minor": 5
}
